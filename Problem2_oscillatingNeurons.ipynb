{
 "cells": [
  {
   "cell_type": "code",
   "execution_count": null,
   "metadata": {},
   "outputs": [],
   "source": [
    "# Import Files\n",
    "import mga\n",
    "import ctrnn\n",
    "import matplotlib.pyplot as plt\n",
    "import numpy as np\n"
   ]
  },
  {
   "cell_type": "code",
   "execution_count": null,
   "metadata": {},
   "outputs": [],
   "source": [
    "# Global Parameters \n",
    "size = 2                       # Number of Neurons \n",
    "duration = 20                  # Duration of evaluation (milliseconds)\n",
    "stepsize = 0.1                 # Step Size (for time steps)\n",
    "WeightRange = 16               # Range of Weight values \n",
    "BiasRange = 16                 # Range of Bias Values \n",
    "TimeConstMin = stepsize*10     # Time Constant Min\n",
    "TimeConstMax = 10              # Time Constant Max\n"
   ]
  },
  {
   "cell_type": "code",
   "execution_count": null,
   "metadata": {},
   "outputs": [],
   "source": [
    "# Function that Graphs Neural Activity of 'Best' Individual\n",
    "\n",
    "def drawNN(ga):\n",
    "    best = ga.pop[np.argmax(ga.fitness)]\n",
    "    time = np.arange(0.0,duration,stepsize)\n",
    "    nnd = ctrnn.CTRNN(size)\n",
    "    nnd.setParameters(best,WeightRange,BiasRange,TimeConstMin,TimeConstMax)\n",
    "    \n",
    "    nnOutput = np.zeros((len(time),size))\n",
    "    step = 0\n",
    "    for t in time:\n",
    "        nnd.step(stepsize)\n",
    "        nnOutput[step] = nnd.Output\n",
    "        step += 1\n",
    "    \n",
    "    plt.plot(time,nnOutput)\n",
    "    plt.xlabel(\"Time\")\n",
    "    plt.ylabel(\"Output\")\n",
    "    plt.title(\"Neural activity\")\n",
    "    plt.show()"
   ]
  },
  {
   "cell_type": "code",
   "execution_count": null,
   "metadata": {},
   "outputs": [],
   "source": [
    "# Fitness Function\n",
    "\n",
    "def fitnessFunction(genotype):\n",
    "    \n",
    "    # Part 1: Generating Neural Network from genotype \n",
    "    time = np.arange(0.0,duration,stepsize)\n",
    "    nnf = ctrnn.CTRNN(size)\n",
    "    nnf.setParameters(genotype,WeightRange,BiasRange,TimeConstMin,TimeConstMax)\n",
    "    \n",
    "    NNoutput = np.zeros((len(time),size))\n",
    "    step = 0\n",
    "    for t in time:\n",
    "        nnf.step(stepsize)\n",
    "        NNoutput[step] = nnf.Output\n",
    "        step += 1\n",
    "\n",
    "    # Part 2: Assessing fitness #\n",
    "    fitness = 0 # Initialize fintness Variable\n",
    "    NNoutput = np.transpose(NNoutput)\n",
    "    for n in range(len(NNoutput)):\n",
    "        for t in range(len(NNoutput[n])-1):\n",
    "            fitness += abs(NNoutput[n][t+1] - NNoutput[n][t]) # Change in NN output at across each timestep\n",
    "            \n",
    "    return fitness # Bigger the sum of changes, Bigger the fitness"
   ]
  },
  {
   "cell_type": "code",
   "execution_count": null,
   "metadata": {},
   "outputs": [],
   "source": [
    "# Parameters for Evolution\n",
    "\n",
    "popsize = 50\n",
    "genesize = (size*size) + (2*size) \n",
    "recombProb = 0.5 \n",
    "mutatProb = 0.1\n",
    "demesize = popsize\n",
    "generations = 100"
   ]
  },
  {
   "cell_type": "code",
   "execution_count": null,
   "metadata": {},
   "outputs": [],
   "source": [
    "# Initialize \n",
    "\n",
    "ga = mga.Microbial(fitnessFunction, popsize, genesize, recombProb, mutatProb, demesize, generations)"
   ]
  },
  {
   "cell_type": "code",
   "execution_count": null,
   "metadata": {},
   "outputs": [],
   "source": [
    "# Graph Initial Neuron Activity\n",
    "\n",
    "drawNN(ga)"
   ]
  },
  {
   "cell_type": "code",
   "execution_count": null,
   "metadata": {},
   "outputs": [],
   "source": [
    "# Run Evolution \n",
    "\n",
    "ga.run()"
   ]
  },
  {
   "cell_type": "code",
   "execution_count": null,
   "metadata": {},
   "outputs": [],
   "source": [
    "# Plot Evolution\n",
    "\n",
    "ga.showFitness()"
   ]
  },
  {
   "cell_type": "code",
   "execution_count": null,
   "metadata": {},
   "outputs": [],
   "source": [
    "# Graph Final Neuron Activity\n",
    "\n",
    "drawNN(ga)"
   ]
  }
 ],
 "metadata": {
  "kernelspec": {
   "display_name": "Python 3.8.1 64-bit",
   "language": "python",
   "name": "python38164bit104e7a8a82c14d179202e71073891aed"
  },
  "language_info": {
   "codemirror_mode": {
    "name": "ipython",
    "version": 3
   },
   "file_extension": ".py",
   "mimetype": "text/x-python",
   "name": "python",
   "nbconvert_exporter": "python",
   "pygments_lexer": "ipython3",
   "version": "3.8.1"
  }
 },
 "nbformat": 4,
 "nbformat_minor": 4
}
